{
 "cells": [
  {
   "cell_type": "code",
   "execution_count": 19,
   "metadata": {},
   "outputs": [],
   "source": [
    "# 케라스 라이브러리와 패키지를 import한다.\n",
    "from tensorflow import keras\n",
    "from keras.models import Sequential\n",
    "from keras.layers import Conv2D\n",
    "from keras.layers import MaxPooling2D\n",
    "from keras.layers import Flatten\n",
    "from keras.layers import Dense"
   ]
  },
  {
   "cell_type": "code",
   "execution_count": 20,
   "metadata": {},
   "outputs": [],
   "source": [
    "# 모델을 순차적모델로 구성한다.\n",
    "classifier = Sequential()"
   ]
  },
  {
   "cell_type": "code",
   "execution_count": 21,
   "metadata": {},
   "outputs": [],
   "source": [
    "# Convolution: Conv2D 레이어를 추가한다.\n",
    "classifier.add(Conv2D(32,(3,3), input_shape=(64, 64, 3), activation='relu'))\n"
   ]
  },
  {
   "cell_type": "code",
   "execution_count": 22,
   "metadata": {},
   "outputs": [],
   "source": [
    "# Pooling: MaxPooling2D 레이어를 추가한다.\n",
    "classifier.add(MaxPooling2D(pool_size=(2,2)))"
   ]
  },
  {
   "cell_type": "code",
   "execution_count": 23,
   "metadata": {},
   "outputs": [],
   "source": [
    "# Flattening: Flatten 레이어를 추가한다.\n",
    "# 2차원 배열로 표현된 이미지를 1차원의 벡터로 변환한다.\n",
    "classifier.add(Flatten())"
   ]
  },
  {
   "cell_type": "code",
   "execution_count": 24,
   "metadata": {},
   "outputs": [],
   "source": [
    "# Full connection: Flattening 레이어를 통해 얻은 노드들을 연결한다.\n",
    "classifier.add(Dense(units = 128, activation = 'relu'))\n"
   ]
  },
  {
   "cell_type": "code",
   "execution_count": 25,
   "metadata": {},
   "outputs": [],
   "source": [
    "# Output: 출력 레이어를 추가한다.\n",
    "# cat or dog로 출력하기 때문에 node는 1개\n",
    "classifier.add(Dense(units=1, activation = 'sigmoid'))"
   ]
  },
  {
   "cell_type": "code",
   "execution_count": 26,
   "metadata": {},
   "outputs": [],
   "source": [
    "# model compile\n",
    "classifier.compile(optimizer = 'adam', loss = 'binary_crossentropy', metrics=['accuracy'])"
   ]
  },
  {
   "cell_type": "code",
   "execution_count": 78,
   "metadata": {},
   "outputs": [
    {
     "name": "stdout",
     "output_type": "stream",
     "text": [
      "Found 8005 images belonging to 2 classes.\n",
      "Found 2023 images belonging to 2 classes.\n"
     ]
    }
   ],
   "source": [
    "from keras.preprocessing.image import ImageDataGenerator\n",
    "train_datagen = ImageDataGenerator(rescale = 1./255, \n",
    "                                   shear_range = 0.15,\n",
    "                                   zoom_range = 0.2,\n",
    "                                   horizontal_flip = True)\n",
    "test_datagen = ImageDataGenerator(rescale = 1./255)\n",
    "\n",
    "training_set = train_datagen.flow_from_directory('training_set',\n",
    "                                                 target_size = (64,64),\n",
    "                                                 batch_size = 32,\n",
    "                                                 class_mode = 'binary')\n",
    "test_set = test_datagen.flow_from_directory('test_set',\n",
    "                                            target_size = (64,64),\n",
    "                                            batch_size = 32,\n",
    "                                            class_mode = 'binary')\n"
   ]
  },
  {
   "cell_type": "code",
   "execution_count": 79,
   "metadata": {},
   "outputs": [
    {
     "name": "stdout",
     "output_type": "stream",
     "text": [
      "Epoch 1/25\n",
      "8000/8000 [==============================] - 1998s 250ms/step - loss: 0.0890 - accuracy: 0.9679 - val_loss: 1.9634 - val_accuracy: 0.7337\n",
      "Epoch 2/25\n",
      "8000/8000 [==============================] - 1985s 248ms/step - loss: 0.0715 - accuracy: 0.9746 - val_loss: 2.0362 - val_accuracy: 0.7302\n",
      "Epoch 3/25\n",
      "8000/8000 [==============================] - 2176s 272ms/step - loss: 0.0613 - accuracy: 0.9790 - val_loss: 2.4469 - val_accuracy: 0.7285\n",
      "Epoch 4/25\n",
      "8000/8000 [==============================] - 2005s 251ms/step - loss: 0.0539 - accuracy: 0.9818 - val_loss: 2.2427 - val_accuracy: 0.7399\n",
      "Epoch 5/25\n",
      "8000/8000 [==============================] - 1961s 245ms/step - loss: 0.0491 - accuracy: 0.9837 - val_loss: 2.4085 - val_accuracy: 0.7512\n",
      "Epoch 6/25\n",
      "8000/8000 [==============================] - 2758s 345ms/step - loss: 0.0453 - accuracy: 0.9850 - val_loss: 2.3696 - val_accuracy: 0.7482\n",
      "Epoch 7/25\n",
      "8000/8000 [==============================] - 2191s 274ms/step - loss: 0.0417 - accuracy: 0.9863 - val_loss: 2.7732 - val_accuracy: 0.7423\n",
      "Epoch 8/25\n",
      "8000/8000 [==============================] - 2319s 290ms/step - loss: 0.0385 - accuracy: 0.9876 - val_loss: 2.8451 - val_accuracy: 0.7419\n",
      "Epoch 9/25\n",
      "8000/8000 [==============================] - 2769s 346ms/step - loss: 0.0362 - accuracy: 0.9885 - val_loss: 2.4832 - val_accuracy: 0.7436\n",
      "Epoch 10/25\n",
      "8000/8000 [==============================] - 2746s 343ms/step - loss: 0.0340 - accuracy: 0.9892 - val_loss: 2.6658 - val_accuracy: 0.7494\n",
      "Epoch 11/25\n",
      "8000/8000 [==============================] - 2719s 340ms/step - loss: 0.0325 - accuracy: 0.9894 - val_loss: 2.6003 - val_accuracy: 0.7455\n",
      "Epoch 12/25\n",
      "8000/8000 [==============================] - 2633s 329ms/step - loss: 0.0306 - accuracy: 0.9902 - val_loss: 2.4873 - val_accuracy: 0.7479\n",
      "Epoch 13/25\n",
      "8000/8000 [==============================] - 2639s 330ms/step - loss: 0.0297 - accuracy: 0.9906 - val_loss: 2.8138 - val_accuracy: 0.7564\n",
      "Epoch 14/25\n",
      "8000/8000 [==============================] - 2259s 282ms/step - loss: 0.0286 - accuracy: 0.9909 - val_loss: 2.7244 - val_accuracy: 0.7504\n",
      "Epoch 15/25\n",
      "8000/8000 [==============================] - 2158s 270ms/step - loss: 0.0271 - accuracy: 0.9915 - val_loss: 3.2125 - val_accuracy: 0.7428\n",
      "Epoch 16/25\n",
      "8000/8000 [==============================] - 2278s 285ms/step - loss: 0.0258 - accuracy: 0.9921 - val_loss: 2.9914 - val_accuracy: 0.7510\n",
      "Epoch 17/25\n",
      "8000/8000 [==============================] - 1919s 240ms/step - loss: 0.0247 - accuracy: 0.9922 - val_loss: 2.8831 - val_accuracy: 0.7459\n",
      "Epoch 18/25\n",
      "8000/8000 [==============================] - 1913s 239ms/step - loss: 0.0226 - accuracy: 0.9928 - val_loss: 3.3131 - val_accuracy: 0.7494\n",
      "Epoch 19/25\n",
      "8000/8000 [==============================] - 1922s 240ms/step - loss: 0.0229 - accuracy: 0.9928 - val_loss: 3.3546 - val_accuracy: 0.7490\n",
      "Epoch 20/25\n",
      "8000/8000 [==============================] - 1921s 240ms/step - loss: 0.0208 - accuracy: 0.9933 - val_loss: 3.3530 - val_accuracy: 0.7543\n",
      "Epoch 21/25\n",
      "8000/8000 [==============================] - 1927s 241ms/step - loss: 0.0213 - accuracy: 0.9932 - val_loss: 3.1300 - val_accuracy: 0.7608\n",
      "Epoch 22/25\n",
      "8000/8000 [==============================] - 1929s 241ms/step - loss: 0.0199 - accuracy: 0.9938 - val_loss: 3.7009 - val_accuracy: 0.7519\n",
      "Epoch 23/25\n",
      "8000/8000 [==============================] - 1944s 243ms/step - loss: 0.0199 - accuracy: 0.9937 - val_loss: 3.2987 - val_accuracy: 0.7628\n",
      "Epoch 24/25\n",
      "8000/8000 [==============================] - 1922s 240ms/step - loss: 0.0191 - accuracy: 0.9941 - val_loss: 3.3608 - val_accuracy: 0.7575\n",
      "Epoch 25/25\n",
      "8000/8000 [==============================] - 1995s 249ms/step - loss: 0.0181 - accuracy: 0.9943 - val_loss: 3.4549 - val_accuracy: 0.7499\n"
     ]
    },
    {
     "data": {
      "text/plain": [
       "<tensorflow.python.keras.callbacks.History at 0x1a6061b53c8>"
      ]
     },
     "execution_count": 79,
     "metadata": {},
     "output_type": "execute_result"
    }
   ],
   "source": [
    "classifier.fit_generator(training_set,\n",
    "                         steps_per_epoch = 8000,\n",
    "                         epochs =25,\n",
    "                         validation_data = test_set,\n",
    "                         validation_steps = 2000)"
   ]
  },
  {
   "cell_type": "code",
   "execution_count": 80,
   "metadata": {},
   "outputs": [],
   "source": [
    "classifier.save('CatandDogClassifier2.h5')"
   ]
  },
  {
   "cell_type": "code",
   "execution_count": 81,
   "metadata": {},
   "outputs": [],
   "source": [
    "json_string = classifier.to_json()"
   ]
  },
  {
   "cell_type": "code",
   "execution_count": 82,
   "metadata": {},
   "outputs": [],
   "source": [
    "from keras.models import load_model\n",
    "from keras.models import model_from_json\n",
    "classifier_json = model_from_json(json_string)"
   ]
  },
  {
   "cell_type": "code",
   "execution_count": 83,
   "metadata": {},
   "outputs": [],
   "source": [
    "classifier_json.save_weights('CatandDogClassifier_json2.h5')"
   ]
  },
  {
   "cell_type": "markdown",
   "metadata": {},
   "source": [
    "# 저장된 모델 test"
   ]
  },
  {
   "cell_type": "code",
   "execution_count": 84,
   "metadata": {},
   "outputs": [],
   "source": [
    "# 저장된 모델 test\n",
    "model = load_model('CatandDogClassifier.h5')\n",
    "# json model load\n",
    "model_json = Sequential()\n",
    "model_json.add(Conv2D(32,(3,3), input_shape=(64, 64, 3), activation='relu'))\n",
    "model_json.add(MaxPooling2D(pool_size=(2,2)))\n",
    "model_json.add(Flatten())\n",
    "model_json.add(Dense(units = 128, activation = 'relu'))\n",
    "model_json.add(Dense(units=1, activation = 'sigmoid'))"
   ]
  },
  {
   "cell_type": "code",
   "execution_count": 85,
   "metadata": {},
   "outputs": [],
   "source": [
    "model_json.compile(optimizer='adam', loss='binary_crossentropy', metrics=['accuracy'])"
   ]
  },
  {
   "cell_type": "code",
   "execution_count": 86,
   "metadata": {},
   "outputs": [],
   "source": [
    "model_json.load_weights('CatandDogClassifier_json.h5')"
   ]
  },
  {
   "cell_type": "code",
   "execution_count": 87,
   "metadata": {},
   "outputs": [],
   "source": [
    "import numpy as np\n",
    "from keras.preprocessing import image\n",
    "\n",
    "test_image = image.load_img('dataset/single_prediction/cat_or_dog1.jpg', target_size = (64,64))\n",
    "test_image = image.img_to_array(test_image)\n",
    "test_image = np.expand_dims(test_image, axis = 0)\n",
    "result = classifier.predict(test_image)"
   ]
  },
  {
   "cell_type": "code",
   "execution_count": 88,
   "metadata": {},
   "outputs": [
    {
     "data": {
      "text/plain": [
       "{'cats': 0, 'dogs': 1}"
      ]
     },
     "execution_count": 88,
     "metadata": {},
     "output_type": "execute_result"
    }
   ],
   "source": [
    "training_set.class_indices"
   ]
  },
  {
   "cell_type": "code",
   "execution_count": 89,
   "metadata": {},
   "outputs": [],
   "source": [
    "if result[0][0] == 1:\n",
    "    prediction = 'dog'\n",
    "else:\n",
    "    prediction = 'cat'"
   ]
  },
  {
   "cell_type": "code",
   "execution_count": 90,
   "metadata": {},
   "outputs": [
    {
     "name": "stdout",
     "output_type": "stream",
     "text": [
      "dog\n"
     ]
    }
   ],
   "source": [
    "print(prediction)"
   ]
  },
  {
   "cell_type": "code",
   "execution_count": 91,
   "metadata": {},
   "outputs": [],
   "source": [
    "result = classifier.predict(test_image)"
   ]
  },
  {
   "cell_type": "code",
   "execution_count": 92,
   "metadata": {},
   "outputs": [],
   "source": [
    "if result[0][0] == 1:\n",
    "    prediction = 'dog'\n",
    "else:\n",
    "    prediction = 'cat'"
   ]
  },
  {
   "cell_type": "code",
   "execution_count": 93,
   "metadata": {},
   "outputs": [
    {
     "name": "stdout",
     "output_type": "stream",
     "text": [
      "dog\n"
     ]
    }
   ],
   "source": [
    "print(prediction)"
   ]
  },
  {
   "cell_type": "code",
   "execution_count": 94,
   "metadata": {},
   "outputs": [],
   "source": [
    "result = classifier_json.predict(test_image)"
   ]
  },
  {
   "cell_type": "code",
   "execution_count": 95,
   "metadata": {},
   "outputs": [],
   "source": [
    "if result[0][0] == 1:\n",
    "    prediction = 'dog'\n",
    "else:\n",
    "    prediction = 'cat'"
   ]
  },
  {
   "cell_type": "code",
   "execution_count": 96,
   "metadata": {},
   "outputs": [
    {
     "name": "stdout",
     "output_type": "stream",
     "text": [
      "dog\n"
     ]
    }
   ],
   "source": [
    "print(prediction)"
   ]
  },
  {
   "cell_type": "code",
   "execution_count": null,
   "metadata": {},
   "outputs": [],
   "source": []
  }
 ],
 "metadata": {
  "kernelspec": {
   "display_name": "Python 3",
   "language": "python",
   "name": "python3"
  },
  "language_info": {
   "codemirror_mode": {
    "name": "ipython",
    "version": 3
   },
   "file_extension": ".py",
   "mimetype": "text/x-python",
   "name": "python",
   "nbconvert_exporter": "python",
   "pygments_lexer": "ipython3",
   "version": "3.6.10"
  }
 },
 "nbformat": 4,
 "nbformat_minor": 4
}
